{
  "nbformat": 4,
  "nbformat_minor": 0,
  "metadata": {
    "colab": {
      "name": "Analisando os JOGOS OLÍMPICOS utilizando CIÊNCIA DE DADOS.ipynb",
      "provenance": [],
      "collapsed_sections": [],
      "include_colab_link": true
    },
    "kernelspec": {
      "name": "python3",
      "display_name": "Python 3"
    },
    "language_info": {
      "name": "python"
    }
  },
  "cells": [
    {
      "cell_type": "markdown",
      "metadata": {
        "id": "view-in-github",
        "colab_type": "text"
      },
      "source": [
        "<a href=\"https://colab.research.google.com/github/EliGorniak/Olympics_Games_DataAnalysis_MachineLearning/blob/main/Analisando_os_JOGOS_OL%C3%8DMPICOS_utilizando_CI%C3%8ANCIA_DE_DADOS.ipynb\" target=\"_parent\"><img src=\"https://colab.research.google.com/assets/colab-badge.svg\" alt=\"Open In Colab\"/></a>"
      ]
    },
    {
      "cell_type": "markdown",
      "metadata": {
        "id": "S_MidrY5vnZa"
      },
      "source": [
        "![banner.png](data:image/png;base64,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)"
      ]
    },
    {
      "cell_type": "markdown",
      "metadata": {
        "id": "zXIsMw3EuJR4"
      },
      "source": [
        "\n",
        "# **Analisando os JOGOS OLÍMPICOS utilizando CIÊNCIA DE DADOS**\n",
        "Este notebook foi desenvolvido durante a aula online do Victor Barros no canal do Youtube: https://www.youtube.com/watch?v=JI_ATSWmi-M "
      ]
    },
    {
      "cell_type": "markdown",
      "metadata": {
        "id": "ieaT8UvgsRJx"
      },
      "source": [
        "# Etapa 1 - Entendimento do Problema \n",
        "\n",
        "## Vamos analisar 120 anos de dados históricos dos Jogos Olímpicos, começando nos Jogos de Atenas em 1896 indo até o Rio de Janeiro no ano de 2016, utilizando Ciência de Dados."
      ]
    },
    {
      "cell_type": "markdown",
      "metadata": {
        "id": "WbXoGWvrsU0d"
      },
      "source": [
        "# Etapa 2: Coleta de Dados\n",
        "\n",
        "#### Você pode baixar esse conjunto de dados no site: https://www.kaggle.com/heesoo37/120-years-of-olympic-history-athletes-and-results"
      ]
    },
    {
      "cell_type": "markdown",
      "metadata": {
        "id": "LdjPb58VsXCy"
      },
      "source": [
        "# Etapa 3: Análise, Interpretação e Visualização dos Dados\n"
      ]
    },
    {
      "cell_type": "markdown",
      "metadata": {
        "id": "4w3D-g6GAoxs"
      },
      "source": [
        "### **Importando as bibliotecas**"
      ]
    },
    {
      "cell_type": "code",
      "metadata": {
        "id": "ePWDOl0esRqt"
      },
      "source": [
        "# Biblioteca para manipulação dos dados\n",
        "import pandas as pd\n",
        "pd.options.mode.chained_assignment = None\n",
        "\n",
        "# Biblioteca para visualização dos dados\n",
        "import missingno\n",
        "import seaborn as sns\n",
        "import matplotlib.pyplot as plt\n",
        "\n",
        "# Biblioteca para machine learning"
      ],
      "execution_count": 65,
      "outputs": []
    },
    {
      "cell_type": "code",
      "metadata": {
        "id": "gq0HjM00Bi52"
      },
      "source": [
        "df_atleta = pd.read_csv(\"athlete_events.csv\")"
      ],
      "execution_count": 2,
      "outputs": []
    },
    {
      "cell_type": "code",
      "metadata": {
        "colab": {
          "base_uri": "https://localhost:8080/",
          "height": 204
        },
        "id": "vL4wSFWmCLst",
        "outputId": "073d73b0-c8d9-453a-931b-e7d0e328f535"
      },
      "source": [
        "df_atleta.head(5)"
      ],
      "execution_count": 7,
      "outputs": [
        {
          "output_type": "execute_result",
          "data": {
            "text/html": [
              "<div>\n",
              "<style scoped>\n",
              "    .dataframe tbody tr th:only-of-type {\n",
              "        vertical-align: middle;\n",
              "    }\n",
              "\n",
              "    .dataframe tbody tr th {\n",
              "        vertical-align: top;\n",
              "    }\n",
              "\n",
              "    .dataframe thead th {\n",
              "        text-align: right;\n",
              "    }\n",
              "</style>\n",
              "<table border=\"1\" class=\"dataframe\">\n",
              "  <thead>\n",
              "    <tr style=\"text-align: right;\">\n",
              "      <th></th>\n",
              "      <th>ID</th>\n",
              "      <th>Name</th>\n",
              "      <th>Sex</th>\n",
              "      <th>Age</th>\n",
              "      <th>Height</th>\n",
              "      <th>Weight</th>\n",
              "      <th>Team</th>\n",
              "      <th>NOC</th>\n",
              "      <th>Games</th>\n",
              "      <th>Year</th>\n",
              "      <th>Season</th>\n",
              "      <th>City</th>\n",
              "      <th>Sport</th>\n",
              "      <th>Event</th>\n",
              "      <th>Medal</th>\n",
              "    </tr>\n",
              "  </thead>\n",
              "  <tbody>\n",
              "    <tr>\n",
              "      <th>0</th>\n",
              "      <td>1</td>\n",
              "      <td>A Dijiang</td>\n",
              "      <td>M</td>\n",
              "      <td>24.0</td>\n",
              "      <td>180.0</td>\n",
              "      <td>80.0</td>\n",
              "      <td>China</td>\n",
              "      <td>CHN</td>\n",
              "      <td>1992 Summer</td>\n",
              "      <td>1992</td>\n",
              "      <td>Summer</td>\n",
              "      <td>Barcelona</td>\n",
              "      <td>Basketball</td>\n",
              "      <td>Basketball Men's Basketball</td>\n",
              "      <td>NaN</td>\n",
              "    </tr>\n",
              "    <tr>\n",
              "      <th>1</th>\n",
              "      <td>2</td>\n",
              "      <td>A Lamusi</td>\n",
              "      <td>M</td>\n",
              "      <td>23.0</td>\n",
              "      <td>170.0</td>\n",
              "      <td>60.0</td>\n",
              "      <td>China</td>\n",
              "      <td>CHN</td>\n",
              "      <td>2012 Summer</td>\n",
              "      <td>2012</td>\n",
              "      <td>Summer</td>\n",
              "      <td>London</td>\n",
              "      <td>Judo</td>\n",
              "      <td>Judo Men's Extra-Lightweight</td>\n",
              "      <td>NaN</td>\n",
              "    </tr>\n",
              "    <tr>\n",
              "      <th>2</th>\n",
              "      <td>3</td>\n",
              "      <td>Gunnar Nielsen Aaby</td>\n",
              "      <td>M</td>\n",
              "      <td>24.0</td>\n",
              "      <td>NaN</td>\n",
              "      <td>NaN</td>\n",
              "      <td>Denmark</td>\n",
              "      <td>DEN</td>\n",
              "      <td>1920 Summer</td>\n",
              "      <td>1920</td>\n",
              "      <td>Summer</td>\n",
              "      <td>Antwerpen</td>\n",
              "      <td>Football</td>\n",
              "      <td>Football Men's Football</td>\n",
              "      <td>NaN</td>\n",
              "    </tr>\n",
              "    <tr>\n",
              "      <th>3</th>\n",
              "      <td>4</td>\n",
              "      <td>Edgar Lindenau Aabye</td>\n",
              "      <td>M</td>\n",
              "      <td>34.0</td>\n",
              "      <td>NaN</td>\n",
              "      <td>NaN</td>\n",
              "      <td>Denmark/Sweden</td>\n",
              "      <td>DEN</td>\n",
              "      <td>1900 Summer</td>\n",
              "      <td>1900</td>\n",
              "      <td>Summer</td>\n",
              "      <td>Paris</td>\n",
              "      <td>Tug-Of-War</td>\n",
              "      <td>Tug-Of-War Men's Tug-Of-War</td>\n",
              "      <td>Gold</td>\n",
              "    </tr>\n",
              "    <tr>\n",
              "      <th>4</th>\n",
              "      <td>5</td>\n",
              "      <td>Christine Jacoba Aaftink</td>\n",
              "      <td>F</td>\n",
              "      <td>21.0</td>\n",
              "      <td>185.0</td>\n",
              "      <td>82.0</td>\n",
              "      <td>Netherlands</td>\n",
              "      <td>NED</td>\n",
              "      <td>1988 Winter</td>\n",
              "      <td>1988</td>\n",
              "      <td>Winter</td>\n",
              "      <td>Calgary</td>\n",
              "      <td>Speed Skating</td>\n",
              "      <td>Speed Skating Women's 500 metres</td>\n",
              "      <td>NaN</td>\n",
              "    </tr>\n",
              "  </tbody>\n",
              "</table>\n",
              "</div>"
            ],
            "text/plain": [
              "   ID                      Name  ...                             Event  Medal\n",
              "0   1                 A Dijiang  ...       Basketball Men's Basketball    NaN\n",
              "1   2                  A Lamusi  ...      Judo Men's Extra-Lightweight    NaN\n",
              "2   3       Gunnar Nielsen Aaby  ...           Football Men's Football    NaN\n",
              "3   4      Edgar Lindenau Aabye  ...       Tug-Of-War Men's Tug-Of-War   Gold\n",
              "4   5  Christine Jacoba Aaftink  ...  Speed Skating Women's 500 metres    NaN\n",
              "\n",
              "[5 rows x 15 columns]"
            ]
          },
          "metadata": {
            "tags": []
          },
          "execution_count": 7
        }
      ]
    },
    {
      "cell_type": "code",
      "metadata": {
        "colab": {
          "base_uri": "https://localhost:8080/",
          "height": 204
        },
        "id": "RDvH7faICqgO",
        "outputId": "bc22a2f1-4b2f-4695-81a5-465899770f89"
      },
      "source": [
        "df_atleta.tail(5)"
      ],
      "execution_count": 8,
      "outputs": [
        {
          "output_type": "execute_result",
          "data": {
            "text/html": [
              "<div>\n",
              "<style scoped>\n",
              "    .dataframe tbody tr th:only-of-type {\n",
              "        vertical-align: middle;\n",
              "    }\n",
              "\n",
              "    .dataframe tbody tr th {\n",
              "        vertical-align: top;\n",
              "    }\n",
              "\n",
              "    .dataframe thead th {\n",
              "        text-align: right;\n",
              "    }\n",
              "</style>\n",
              "<table border=\"1\" class=\"dataframe\">\n",
              "  <thead>\n",
              "    <tr style=\"text-align: right;\">\n",
              "      <th></th>\n",
              "      <th>ID</th>\n",
              "      <th>Name</th>\n",
              "      <th>Sex</th>\n",
              "      <th>Age</th>\n",
              "      <th>Height</th>\n",
              "      <th>Weight</th>\n",
              "      <th>Team</th>\n",
              "      <th>NOC</th>\n",
              "      <th>Games</th>\n",
              "      <th>Year</th>\n",
              "      <th>Season</th>\n",
              "      <th>City</th>\n",
              "      <th>Sport</th>\n",
              "      <th>Event</th>\n",
              "      <th>Medal</th>\n",
              "    </tr>\n",
              "  </thead>\n",
              "  <tbody>\n",
              "    <tr>\n",
              "      <th>271111</th>\n",
              "      <td>135569</td>\n",
              "      <td>Andrzej ya</td>\n",
              "      <td>M</td>\n",
              "      <td>29.0</td>\n",
              "      <td>179.0</td>\n",
              "      <td>89.0</td>\n",
              "      <td>Poland-1</td>\n",
              "      <td>POL</td>\n",
              "      <td>1976 Winter</td>\n",
              "      <td>1976</td>\n",
              "      <td>Winter</td>\n",
              "      <td>Innsbruck</td>\n",
              "      <td>Luge</td>\n",
              "      <td>Luge Mixed (Men)'s Doubles</td>\n",
              "      <td>NaN</td>\n",
              "    </tr>\n",
              "    <tr>\n",
              "      <th>271112</th>\n",
              "      <td>135570</td>\n",
              "      <td>Piotr ya</td>\n",
              "      <td>M</td>\n",
              "      <td>27.0</td>\n",
              "      <td>176.0</td>\n",
              "      <td>59.0</td>\n",
              "      <td>Poland</td>\n",
              "      <td>POL</td>\n",
              "      <td>2014 Winter</td>\n",
              "      <td>2014</td>\n",
              "      <td>Winter</td>\n",
              "      <td>Sochi</td>\n",
              "      <td>Ski Jumping</td>\n",
              "      <td>Ski Jumping Men's Large Hill, Individual</td>\n",
              "      <td>NaN</td>\n",
              "    </tr>\n",
              "    <tr>\n",
              "      <th>271113</th>\n",
              "      <td>135570</td>\n",
              "      <td>Piotr ya</td>\n",
              "      <td>M</td>\n",
              "      <td>27.0</td>\n",
              "      <td>176.0</td>\n",
              "      <td>59.0</td>\n",
              "      <td>Poland</td>\n",
              "      <td>POL</td>\n",
              "      <td>2014 Winter</td>\n",
              "      <td>2014</td>\n",
              "      <td>Winter</td>\n",
              "      <td>Sochi</td>\n",
              "      <td>Ski Jumping</td>\n",
              "      <td>Ski Jumping Men's Large Hill, Team</td>\n",
              "      <td>NaN</td>\n",
              "    </tr>\n",
              "    <tr>\n",
              "      <th>271114</th>\n",
              "      <td>135571</td>\n",
              "      <td>Tomasz Ireneusz ya</td>\n",
              "      <td>M</td>\n",
              "      <td>30.0</td>\n",
              "      <td>185.0</td>\n",
              "      <td>96.0</td>\n",
              "      <td>Poland</td>\n",
              "      <td>POL</td>\n",
              "      <td>1998 Winter</td>\n",
              "      <td>1998</td>\n",
              "      <td>Winter</td>\n",
              "      <td>Nagano</td>\n",
              "      <td>Bobsleigh</td>\n",
              "      <td>Bobsleigh Men's Four</td>\n",
              "      <td>NaN</td>\n",
              "    </tr>\n",
              "    <tr>\n",
              "      <th>271115</th>\n",
              "      <td>135571</td>\n",
              "      <td>Tomasz Ireneusz ya</td>\n",
              "      <td>M</td>\n",
              "      <td>34.0</td>\n",
              "      <td>185.0</td>\n",
              "      <td>96.0</td>\n",
              "      <td>Poland</td>\n",
              "      <td>POL</td>\n",
              "      <td>2002 Winter</td>\n",
              "      <td>2002</td>\n",
              "      <td>Winter</td>\n",
              "      <td>Salt Lake City</td>\n",
              "      <td>Bobsleigh</td>\n",
              "      <td>Bobsleigh Men's Four</td>\n",
              "      <td>NaN</td>\n",
              "    </tr>\n",
              "  </tbody>\n",
              "</table>\n",
              "</div>"
            ],
            "text/plain": [
              "            ID  ... Medal\n",
              "271111  135569  ...   NaN\n",
              "271112  135570  ...   NaN\n",
              "271113  135570  ...   NaN\n",
              "271114  135571  ...   NaN\n",
              "271115  135571  ...   NaN\n",
              "\n",
              "[5 rows x 15 columns]"
            ]
          },
          "metadata": {
            "tags": []
          },
          "execution_count": 8
        }
      ]
    },
    {
      "cell_type": "code",
      "metadata": {
        "colab": {
          "base_uri": "https://localhost:8080/"
        },
        "id": "UlrQJbQDDR3O",
        "outputId": "bb06bc6f-08c3-4341-8113-de61d3ab8eae"
      },
      "source": [
        "df_atleta.columns"
      ],
      "execution_count": 9,
      "outputs": [
        {
          "output_type": "execute_result",
          "data": {
            "text/plain": [
              "Index(['ID', 'Name', 'Sex', 'Age', 'Height', 'Weight', 'Team', 'NOC', 'Games',\n",
              "       'Year', 'Season', 'City', 'Sport', 'Event', 'Medal'],\n",
              "      dtype='object')"
            ]
          },
          "metadata": {
            "tags": []
          },
          "execution_count": 9
        }
      ]
    },
    {
      "cell_type": "code",
      "metadata": {
        "colab": {
          "base_uri": "https://localhost:8080/"
        },
        "id": "4BFVvbKBDcGE",
        "outputId": "5e4ec9d1-248c-4fb6-8bee-fe86741acf67"
      },
      "source": [
        "# o método .info() é SUPER PODEROSO pois ele mostra detalhes importantes do dataset\n",
        "df_atleta.info()\n",
        "# observar o RangeIndex a quantidade de entries\n",
        "# observar linha a linha das features (colunas) onde há dados faltantes, talvez seja necessário aplicar feature engineering para corrigir os problemas\n",
        "# Dtype object é uma junção de string e numbers, ex R$ 180.00\n",
        "# Age como float64, não é possível fazer feature engineering se na feature há dados faltantes"
      ],
      "execution_count": 12,
      "outputs": [
        {
          "output_type": "stream",
          "text": [
            "<class 'pandas.core.frame.DataFrame'>\n",
            "RangeIndex: 271116 entries, 0 to 271115\n",
            "Data columns (total 15 columns):\n",
            " #   Column  Non-Null Count   Dtype  \n",
            "---  ------  --------------   -----  \n",
            " 0   ID      271116 non-null  int64  \n",
            " 1   Name    271116 non-null  object \n",
            " 2   Sex     271116 non-null  object \n",
            " 3   Age     261642 non-null  float64\n",
            " 4   Height  210945 non-null  float64\n",
            " 5   Weight  208241 non-null  float64\n",
            " 6   Team    271116 non-null  object \n",
            " 7   NOC     271116 non-null  object \n",
            " 8   Games   271116 non-null  object \n",
            " 9   Year    271116 non-null  int64  \n",
            " 10  Season  271116 non-null  object \n",
            " 11  City    271116 non-null  object \n",
            " 12  Sport   271116 non-null  object \n",
            " 13  Event   271116 non-null  object \n",
            " 14  Medal   39783 non-null   object \n",
            "dtypes: float64(3), int64(2), object(10)\n",
            "memory usage: 31.0+ MB\n"
          ],
          "name": "stdout"
        }
      ]
    },
    {
      "cell_type": "markdown",
      "metadata": {
        "id": "8Tq2NNPpHLzS"
      },
      "source": [
        "### **Dicionário de dados:**\n",
        "\n",
        "![image.png](data:image/png;base64,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)"
      ]
    },
    {
      "cell_type": "code",
      "metadata": {
        "id": "oJhbkwJZGQ4A"
      },
      "source": [
        "# Renomeando as colunas:\n",
        "# inplace=True vai manter a mudança permanentemente no df\n",
        "df_atleta.rename(columns={\"ID\": \"id_atleta\", \"Name\": 'nome_atleta', \"Sex\": \"sexo_atleta\", 'Age': 'idade_atleta', 'Height': 'altura_atleta', 'Weight': 'peso_atleta', 'Team': 'equipe', 'NOC': 'noc', 'Games': 'ano_temporada', 'Year': 'ano', \"Season\": 'temporada', 'City': 'cidade_sede', 'Sport': 'modalidade_esportiva', 'Event': 'evento', 'Medal': 'medalha'}, inplace=True)"
      ],
      "execution_count": 22,
      "outputs": []
    },
    {
      "cell_type": "code",
      "metadata": {
        "colab": {
          "base_uri": "https://localhost:8080/",
          "height": 204
        },
        "id": "5e4gZPvyGQvE",
        "outputId": "5240f791-a2af-41e9-e64e-244986a2c633"
      },
      "source": [
        "df_atleta.head(5)"
      ],
      "execution_count": 24,
      "outputs": [
        {
          "output_type": "execute_result",
          "data": {
            "text/html": [
              "<div>\n",
              "<style scoped>\n",
              "    .dataframe tbody tr th:only-of-type {\n",
              "        vertical-align: middle;\n",
              "    }\n",
              "\n",
              "    .dataframe tbody tr th {\n",
              "        vertical-align: top;\n",
              "    }\n",
              "\n",
              "    .dataframe thead th {\n",
              "        text-align: right;\n",
              "    }\n",
              "</style>\n",
              "<table border=\"1\" class=\"dataframe\">\n",
              "  <thead>\n",
              "    <tr style=\"text-align: right;\">\n",
              "      <th></th>\n",
              "      <th>id_atleta</th>\n",
              "      <th>name_atleta</th>\n",
              "      <th>sexo_atleta</th>\n",
              "      <th>idade_atleta</th>\n",
              "      <th>altura_atleta</th>\n",
              "      <th>peso_atleta</th>\n",
              "      <th>equipe</th>\n",
              "      <th>noc</th>\n",
              "      <th>ano_temporada</th>\n",
              "      <th>ano</th>\n",
              "      <th>temporada</th>\n",
              "      <th>cidade_sede</th>\n",
              "      <th>modalidade_esportiva</th>\n",
              "      <th>evento</th>\n",
              "      <th>medalha</th>\n",
              "    </tr>\n",
              "  </thead>\n",
              "  <tbody>\n",
              "    <tr>\n",
              "      <th>0</th>\n",
              "      <td>1</td>\n",
              "      <td>A Dijiang</td>\n",
              "      <td>M</td>\n",
              "      <td>24.0</td>\n",
              "      <td>180.0</td>\n",
              "      <td>80.0</td>\n",
              "      <td>China</td>\n",
              "      <td>CHN</td>\n",
              "      <td>1992 Summer</td>\n",
              "      <td>1992</td>\n",
              "      <td>Summer</td>\n",
              "      <td>Barcelona</td>\n",
              "      <td>Basketball</td>\n",
              "      <td>Basketball Men's Basketball</td>\n",
              "      <td>NaN</td>\n",
              "    </tr>\n",
              "    <tr>\n",
              "      <th>1</th>\n",
              "      <td>2</td>\n",
              "      <td>A Lamusi</td>\n",
              "      <td>M</td>\n",
              "      <td>23.0</td>\n",
              "      <td>170.0</td>\n",
              "      <td>60.0</td>\n",
              "      <td>China</td>\n",
              "      <td>CHN</td>\n",
              "      <td>2012 Summer</td>\n",
              "      <td>2012</td>\n",
              "      <td>Summer</td>\n",
              "      <td>London</td>\n",
              "      <td>Judo</td>\n",
              "      <td>Judo Men's Extra-Lightweight</td>\n",
              "      <td>NaN</td>\n",
              "    </tr>\n",
              "    <tr>\n",
              "      <th>2</th>\n",
              "      <td>3</td>\n",
              "      <td>Gunnar Nielsen Aaby</td>\n",
              "      <td>M</td>\n",
              "      <td>24.0</td>\n",
              "      <td>NaN</td>\n",
              "      <td>NaN</td>\n",
              "      <td>Denmark</td>\n",
              "      <td>DEN</td>\n",
              "      <td>1920 Summer</td>\n",
              "      <td>1920</td>\n",
              "      <td>Summer</td>\n",
              "      <td>Antwerpen</td>\n",
              "      <td>Football</td>\n",
              "      <td>Football Men's Football</td>\n",
              "      <td>NaN</td>\n",
              "    </tr>\n",
              "    <tr>\n",
              "      <th>3</th>\n",
              "      <td>4</td>\n",
              "      <td>Edgar Lindenau Aabye</td>\n",
              "      <td>M</td>\n",
              "      <td>34.0</td>\n",
              "      <td>NaN</td>\n",
              "      <td>NaN</td>\n",
              "      <td>Denmark/Sweden</td>\n",
              "      <td>DEN</td>\n",
              "      <td>1900 Summer</td>\n",
              "      <td>1900</td>\n",
              "      <td>Summer</td>\n",
              "      <td>Paris</td>\n",
              "      <td>Tug-Of-War</td>\n",
              "      <td>Tug-Of-War Men's Tug-Of-War</td>\n",
              "      <td>Gold</td>\n",
              "    </tr>\n",
              "    <tr>\n",
              "      <th>4</th>\n",
              "      <td>5</td>\n",
              "      <td>Christine Jacoba Aaftink</td>\n",
              "      <td>F</td>\n",
              "      <td>21.0</td>\n",
              "      <td>185.0</td>\n",
              "      <td>82.0</td>\n",
              "      <td>Netherlands</td>\n",
              "      <td>NED</td>\n",
              "      <td>1988 Winter</td>\n",
              "      <td>1988</td>\n",
              "      <td>Winter</td>\n",
              "      <td>Calgary</td>\n",
              "      <td>Speed Skating</td>\n",
              "      <td>Speed Skating Women's 500 metres</td>\n",
              "      <td>NaN</td>\n",
              "    </tr>\n",
              "  </tbody>\n",
              "</table>\n",
              "</div>"
            ],
            "text/plain": [
              "   id_atleta  ... medalha\n",
              "0          1  ...     NaN\n",
              "1          2  ...     NaN\n",
              "2          3  ...     NaN\n",
              "3          4  ...    Gold\n",
              "4          5  ...     NaN\n",
              "\n",
              "[5 rows x 15 columns]"
            ]
          },
          "metadata": {
            "tags": []
          },
          "execution_count": 24
        }
      ]
    },
    {
      "cell_type": "code",
      "metadata": {
        "colab": {
          "base_uri": "https://localhost:8080/"
        },
        "id": "QIX5h701GQl3",
        "outputId": "fcb49e15-b904-49f4-fc63-eb7da1afd5f6"
      },
      "source": [
        "# Criando um novo dataframe SEM os JOGOS DE INVERNO\n",
        "df_atleta['temporada'].nunique() # mostra a quantidade de únicos que temos na coluna"
      ],
      "execution_count": 25,
      "outputs": [
        {
          "output_type": "execute_result",
          "data": {
            "text/plain": [
              "2"
            ]
          },
          "metadata": {
            "tags": []
          },
          "execution_count": 25
        }
      ]
    },
    {
      "cell_type": "code",
      "metadata": {
        "colab": {
          "base_uri": "https://localhost:8080/"
        },
        "id": "_s-_Ke1WGQa8",
        "outputId": "7372a566-1dfd-4d3f-a8b2-47e2e03014bf"
      },
      "source": [
        "df_atleta['temporada'].unique() # mostra quais os valores únicos que temos na coluna"
      ],
      "execution_count": 26,
      "outputs": [
        {
          "output_type": "execute_result",
          "data": {
            "text/plain": [
              "array(['Summer', 'Winter'], dtype=object)"
            ]
          },
          "metadata": {
            "tags": []
          },
          "execution_count": 26
        }
      ]
    },
    {
      "cell_type": "code",
      "metadata": {
        "id": "slJoTk_TLmrg"
      },
      "source": [
        "# filtrando na coluna temporada para armazenar apenas os rows com 'Summer', excluindo os 'Winter'\n",
        "df_atleta = df_atleta[df_atleta['temporada'] == 'Summer']"
      ],
      "execution_count": 27,
      "outputs": []
    },
    {
      "cell_type": "code",
      "metadata": {
        "colab": {
          "base_uri": "https://localhost:8080/"
        },
        "id": "LY6FvBPGLmdP",
        "outputId": "bbaffe3b-2440-474f-d202-7d14932e7c57"
      },
      "source": [
        "df_atleta['temporada'].unique()"
      ],
      "execution_count": 28,
      "outputs": [
        {
          "output_type": "execute_result",
          "data": {
            "text/plain": [
              "array(['Summer'], dtype=object)"
            ]
          },
          "metadata": {
            "tags": []
          },
          "execution_count": 28
        }
      ]
    },
    {
      "cell_type": "markdown",
      "metadata": {
        "id": "ecgPjliuMcJ7"
      },
      "source": [
        "### **Informações Estatísticas**"
      ]
    },
    {
      "cell_type": "code",
      "metadata": {
        "colab": {
          "base_uri": "https://localhost:8080/",
          "height": 297
        },
        "id": "C5W7DUH_MaUn",
        "outputId": "a7a0df28-94ad-49e4-eaee-eb4f9a73d467"
      },
      "source": [
        "df_atleta.describe().round(3) # só para melhorar a visualização com 3 casas decimais\n",
        "# o describe() já ajuda a ver se há discrepâncias nos valores, por exemplo, a idade mínima foi de 10 anos? e a idade máxima de um atleta foi de 97 anos? Dados faltantes? Outliers?"
      ],
      "execution_count": 33,
      "outputs": [
        {
          "output_type": "execute_result",
          "data": {
            "text/html": [
              "<div>\n",
              "<style scoped>\n",
              "    .dataframe tbody tr th:only-of-type {\n",
              "        vertical-align: middle;\n",
              "    }\n",
              "\n",
              "    .dataframe tbody tr th {\n",
              "        vertical-align: top;\n",
              "    }\n",
              "\n",
              "    .dataframe thead th {\n",
              "        text-align: right;\n",
              "    }\n",
              "</style>\n",
              "<table border=\"1\" class=\"dataframe\">\n",
              "  <thead>\n",
              "    <tr style=\"text-align: right;\">\n",
              "      <th></th>\n",
              "      <th>id_atleta</th>\n",
              "      <th>idade_atleta</th>\n",
              "      <th>altura_atleta</th>\n",
              "      <th>peso_atleta</th>\n",
              "      <th>ano</th>\n",
              "    </tr>\n",
              "  </thead>\n",
              "  <tbody>\n",
              "    <tr>\n",
              "      <th>count</th>\n",
              "      <td>222552.000</td>\n",
              "      <td>213363.000</td>\n",
              "      <td>170695.000</td>\n",
              "      <td>168698.000</td>\n",
              "      <td>222552.000</td>\n",
              "    </tr>\n",
              "    <tr>\n",
              "      <th>mean</th>\n",
              "      <td>67998.926</td>\n",
              "      <td>25.674</td>\n",
              "      <td>175.516</td>\n",
              "      <td>70.689</td>\n",
              "      <td>1976.317</td>\n",
              "    </tr>\n",
              "    <tr>\n",
              "      <th>std</th>\n",
              "      <td>39139.038</td>\n",
              "      <td>6.700</td>\n",
              "      <td>10.915</td>\n",
              "      <td>14.804</td>\n",
              "      <td>30.943</td>\n",
              "    </tr>\n",
              "    <tr>\n",
              "      <th>min</th>\n",
              "      <td>1.000</td>\n",
              "      <td>10.000</td>\n",
              "      <td>127.000</td>\n",
              "      <td>25.000</td>\n",
              "      <td>1896.000</td>\n",
              "    </tr>\n",
              "    <tr>\n",
              "      <th>25%</th>\n",
              "      <td>34000.750</td>\n",
              "      <td>21.000</td>\n",
              "      <td>168.000</td>\n",
              "      <td>60.000</td>\n",
              "      <td>1956.000</td>\n",
              "    </tr>\n",
              "    <tr>\n",
              "      <th>50%</th>\n",
              "      <td>68302.500</td>\n",
              "      <td>24.000</td>\n",
              "      <td>175.000</td>\n",
              "      <td>70.000</td>\n",
              "      <td>1984.000</td>\n",
              "    </tr>\n",
              "    <tr>\n",
              "      <th>75%</th>\n",
              "      <td>101881.000</td>\n",
              "      <td>28.000</td>\n",
              "      <td>183.000</td>\n",
              "      <td>79.000</td>\n",
              "      <td>2000.000</td>\n",
              "    </tr>\n",
              "    <tr>\n",
              "      <th>max</th>\n",
              "      <td>135568.000</td>\n",
              "      <td>97.000</td>\n",
              "      <td>226.000</td>\n",
              "      <td>214.000</td>\n",
              "      <td>2016.000</td>\n",
              "    </tr>\n",
              "  </tbody>\n",
              "</table>\n",
              "</div>"
            ],
            "text/plain": [
              "        id_atleta  idade_atleta  altura_atleta  peso_atleta         ano\n",
              "count  222552.000    213363.000     170695.000   168698.000  222552.000\n",
              "mean    67998.926        25.674        175.516       70.689    1976.317\n",
              "std     39139.038         6.700         10.915       14.804      30.943\n",
              "min         1.000        10.000        127.000       25.000    1896.000\n",
              "25%     34000.750        21.000        168.000       60.000    1956.000\n",
              "50%     68302.500        24.000        175.000       70.000    1984.000\n",
              "75%    101881.000        28.000        183.000       79.000    2000.000\n",
              "max    135568.000        97.000        226.000      214.000    2016.000"
            ]
          },
          "metadata": {
            "tags": []
          },
          "execution_count": 33
        }
      ]
    },
    {
      "cell_type": "code",
      "metadata": {
        "colab": {
          "base_uri": "https://localhost:8080/",
          "height": 173
        },
        "id": "Ic2-EAFJMaLf",
        "outputId": "4bd0a913-3ddf-4d34-a885-a3899a3a2776"
      },
      "source": [
        "df_atleta.describe(include='O') # include='O' vai mostrar todos os dados que são do tipo OBJECT"
      ],
      "execution_count": 31,
      "outputs": [
        {
          "output_type": "execute_result",
          "data": {
            "text/html": [
              "<div>\n",
              "<style scoped>\n",
              "    .dataframe tbody tr th:only-of-type {\n",
              "        vertical-align: middle;\n",
              "    }\n",
              "\n",
              "    .dataframe tbody tr th {\n",
              "        vertical-align: top;\n",
              "    }\n",
              "\n",
              "    .dataframe thead th {\n",
              "        text-align: right;\n",
              "    }\n",
              "</style>\n",
              "<table border=\"1\" class=\"dataframe\">\n",
              "  <thead>\n",
              "    <tr style=\"text-align: right;\">\n",
              "      <th></th>\n",
              "      <th>name_atleta</th>\n",
              "      <th>sexo_atleta</th>\n",
              "      <th>equipe</th>\n",
              "      <th>noc</th>\n",
              "      <th>ano_temporada</th>\n",
              "      <th>temporada</th>\n",
              "      <th>cidade_sede</th>\n",
              "      <th>modalidade_esportiva</th>\n",
              "      <th>evento</th>\n",
              "      <th>medalha</th>\n",
              "    </tr>\n",
              "  </thead>\n",
              "  <tbody>\n",
              "    <tr>\n",
              "      <th>count</th>\n",
              "      <td>222552</td>\n",
              "      <td>222552</td>\n",
              "      <td>222552</td>\n",
              "      <td>222552</td>\n",
              "      <td>222552</td>\n",
              "      <td>222552</td>\n",
              "      <td>222552</td>\n",
              "      <td>222552</td>\n",
              "      <td>222552</td>\n",
              "      <td>34088</td>\n",
              "    </tr>\n",
              "    <tr>\n",
              "      <th>unique</th>\n",
              "      <td>116122</td>\n",
              "      <td>2</td>\n",
              "      <td>1157</td>\n",
              "      <td>230</td>\n",
              "      <td>29</td>\n",
              "      <td>1</td>\n",
              "      <td>23</td>\n",
              "      <td>52</td>\n",
              "      <td>651</td>\n",
              "      <td>3</td>\n",
              "    </tr>\n",
              "    <tr>\n",
              "      <th>top</th>\n",
              "      <td>Robert Tait McKenzie</td>\n",
              "      <td>M</td>\n",
              "      <td>United States</td>\n",
              "      <td>USA</td>\n",
              "      <td>2000 Summer</td>\n",
              "      <td>Summer</td>\n",
              "      <td>London</td>\n",
              "      <td>Athletics</td>\n",
              "      <td>Football Men's Football</td>\n",
              "      <td>Gold</td>\n",
              "    </tr>\n",
              "    <tr>\n",
              "      <th>freq</th>\n",
              "      <td>58</td>\n",
              "      <td>163109</td>\n",
              "      <td>14526</td>\n",
              "      <td>15064</td>\n",
              "      <td>13821</td>\n",
              "      <td>222552</td>\n",
              "      <td>22426</td>\n",
              "      <td>38624</td>\n",
              "      <td>5733</td>\n",
              "      <td>11459</td>\n",
              "    </tr>\n",
              "  </tbody>\n",
              "</table>\n",
              "</div>"
            ],
            "text/plain": [
              "                 name_atleta sexo_atleta  ...                   evento medalha\n",
              "count                 222552      222552  ...                   222552   34088\n",
              "unique                116122           2  ...                      651       3\n",
              "top     Robert Tait McKenzie           M  ...  Football Men's Football    Gold\n",
              "freq                      58      163109  ...                     5733   11459\n",
              "\n",
              "[4 rows x 10 columns]"
            ]
          },
          "metadata": {
            "tags": []
          },
          "execution_count": 31
        }
      ]
    },
    {
      "cell_type": "markdown",
      "metadata": {
        "id": "A2Q6sLplPJUo"
      },
      "source": [
        "### **Dados Faltantes**"
      ]
    },
    {
      "cell_type": "code",
      "metadata": {
        "colab": {
          "base_uri": "https://localhost:8080/"
        },
        "id": "Yu0ioMAjMaDH",
        "outputId": "173452b8-5a21-48c4-b365-39bf84e7438b"
      },
      "source": [
        "df_atleta.isnull().sum() # vai acessar o df e detectar os valores faltantes\n",
        "# o método .sum() vai resumir a quantidade de dados faltantes POR FEATURE"
      ],
      "execution_count": 36,
      "outputs": [
        {
          "output_type": "execute_result",
          "data": {
            "text/plain": [
              "id_atleta                    0\n",
              "name_atleta                  0\n",
              "sexo_atleta                  0\n",
              "idade_atleta              9189\n",
              "altura_atleta            51857\n",
              "peso_atleta              53854\n",
              "equipe                       0\n",
              "noc                          0\n",
              "ano_temporada                0\n",
              "ano                          0\n",
              "temporada                    0\n",
              "cidade_sede                  0\n",
              "modalidade_esportiva         0\n",
              "evento                       0\n",
              "medalha                 188464\n",
              "dtype: int64"
            ]
          },
          "metadata": {
            "tags": []
          },
          "execution_count": 36
        }
      ]
    },
    {
      "cell_type": "code",
      "metadata": {
        "colab": {
          "base_uri": "https://localhost:8080/"
        },
        "id": "fnH8xYZ2MZ5r",
        "outputId": "996d9bb6-563c-4f2b-cc31-4a4348052499"
      },
      "source": [
        "df_atleta.isnull().sum().sort_values(ascending=False) # False vai trazer em ordem DECRESCENTE"
      ],
      "execution_count": 39,
      "outputs": [
        {
          "output_type": "execute_result",
          "data": {
            "text/plain": [
              "medalha                 188464\n",
              "peso_atleta              53854\n",
              "altura_atleta            51857\n",
              "idade_atleta              9189\n",
              "evento                       0\n",
              "modalidade_esportiva         0\n",
              "cidade_sede                  0\n",
              "temporada                    0\n",
              "ano                          0\n",
              "ano_temporada                0\n",
              "noc                          0\n",
              "equipe                       0\n",
              "sexo_atleta                  0\n",
              "name_atleta                  0\n",
              "id_atleta                    0\n",
              "dtype: int64"
            ]
          },
          "metadata": {
            "tags": []
          },
          "execution_count": 39
        }
      ]
    },
    {
      "cell_type": "markdown",
      "metadata": {
        "id": "sGaSDH0uQu89"
      },
      "source": [
        "**Para visualizar os valores faltantes, é possível utilizar a biblioteca MISSINGNO**"
      ]
    },
    {
      "cell_type": "code",
      "metadata": {
        "colab": {
          "base_uri": "https://localhost:8080/",
          "height": 730
        },
        "id": "o3WdEN7vMZwv",
        "outputId": "3e1d0414-9554-42e7-b53d-4c2f5a21d1b4"
      },
      "source": [
        "# esse método .matrix() auxilia a visualizar na distribuição do dataframe os espaços em branco para visualizar os dados faltantes\n",
        "missingno.matrix(df_atleta, figsize=(25,10));"
      ],
      "execution_count": 48,
      "outputs": [
        {
          "output_type": "display_data",
          "data": {
            "image/png": "[encoded data removed]",
            "text/plain": [
              "<Figure size 1800x720 with 2 Axes>"
            ]
          },
          "metadata": {
            "tags": [],
            "needs_background": "light"
          }
        }
      ]
    },
    {
      "cell_type": "markdown",
      "metadata": {
        "id": "xVCivV7ISMlP"
      },
      "source": [
        "**Avaliando se temos dados DUPLICADOS**"
      ]
    },
    {
      "cell_type": "code",
      "metadata": {
        "colab": {
          "base_uri": "https://localhost:8080/",
          "height": 589
        },
        "id": "zYln_BKRSMYR",
        "outputId": "a8016284-0fae-4e04-86b9-36055f3f3e10"
      },
      "source": [
        "df_atleta[df_atleta.duplicated()]"
      ],
      "execution_count": 49,
      "outputs": [
        {
          "output_type": "execute_result",
          "data": {
            "text/html": [
              "<div>\n",
              "<style scoped>\n",
              "    .dataframe tbody tr th:only-of-type {\n",
              "        vertical-align: middle;\n",
              "    }\n",
              "\n",
              "    .dataframe tbody tr th {\n",
              "        vertical-align: top;\n",
              "    }\n",
              "\n",
              "    .dataframe thead th {\n",
              "        text-align: right;\n",
              "    }\n",
              "</style>\n",
              "<table border=\"1\" class=\"dataframe\">\n",
              "  <thead>\n",
              "    <tr style=\"text-align: right;\">\n",
              "      <th></th>\n",
              "      <th>id_atleta</th>\n",
              "      <th>name_atleta</th>\n",
              "      <th>sexo_atleta</th>\n",
              "      <th>idade_atleta</th>\n",
              "      <th>altura_atleta</th>\n",
              "      <th>peso_atleta</th>\n",
              "      <th>equipe</th>\n",
              "      <th>noc</th>\n",
              "      <th>ano_temporada</th>\n",
              "      <th>ano</th>\n",
              "      <th>temporada</th>\n",
              "      <th>cidade_sede</th>\n",
              "      <th>modalidade_esportiva</th>\n",
              "      <th>evento</th>\n",
              "      <th>medalha</th>\n",
              "    </tr>\n",
              "  </thead>\n",
              "  <tbody>\n",
              "    <tr>\n",
              "      <th>1252</th>\n",
              "      <td>704</td>\n",
              "      <td>Dsir Antoine Acket</td>\n",
              "      <td>M</td>\n",
              "      <td>27.0</td>\n",
              "      <td>NaN</td>\n",
              "      <td>NaN</td>\n",
              "      <td>Belgium</td>\n",
              "      <td>BEL</td>\n",
              "      <td>1932 Summer</td>\n",
              "      <td>1932</td>\n",
              "      <td>Summer</td>\n",
              "      <td>Los Angeles</td>\n",
              "      <td>Art Competitions</td>\n",
              "      <td>Art Competitions Mixed Painting, Unknown Event</td>\n",
              "      <td>NaN</td>\n",
              "    </tr>\n",
              "    <tr>\n",
              "      <th>4282</th>\n",
              "      <td>2449</td>\n",
              "      <td>William Truman Aldrich</td>\n",
              "      <td>M</td>\n",
              "      <td>48.0</td>\n",
              "      <td>NaN</td>\n",
              "      <td>NaN</td>\n",
              "      <td>United States</td>\n",
              "      <td>USA</td>\n",
              "      <td>1928 Summer</td>\n",
              "      <td>1928</td>\n",
              "      <td>Summer</td>\n",
              "      <td>Amsterdam</td>\n",
              "      <td>Art Competitions</td>\n",
              "      <td>Art Competitions Mixed Painting, Drawings And ...</td>\n",
              "      <td>NaN</td>\n",
              "    </tr>\n",
              "    <tr>\n",
              "      <th>4283</th>\n",
              "      <td>2449</td>\n",
              "      <td>William Truman Aldrich</td>\n",
              "      <td>M</td>\n",
              "      <td>48.0</td>\n",
              "      <td>NaN</td>\n",
              "      <td>NaN</td>\n",
              "      <td>United States</td>\n",
              "      <td>USA</td>\n",
              "      <td>1928 Summer</td>\n",
              "      <td>1928</td>\n",
              "      <td>Summer</td>\n",
              "      <td>Amsterdam</td>\n",
              "      <td>Art Competitions</td>\n",
              "      <td>Art Competitions Mixed Painting, Drawings And ...</td>\n",
              "      <td>NaN</td>\n",
              "    </tr>\n",
              "    <tr>\n",
              "      <th>4862</th>\n",
              "      <td>2777</td>\n",
              "      <td>Hermann Reinhard Alker</td>\n",
              "      <td>M</td>\n",
              "      <td>43.0</td>\n",
              "      <td>NaN</td>\n",
              "      <td>NaN</td>\n",
              "      <td>Germany</td>\n",
              "      <td>GER</td>\n",
              "      <td>1928 Summer</td>\n",
              "      <td>1928</td>\n",
              "      <td>Summer</td>\n",
              "      <td>Amsterdam</td>\n",
              "      <td>Art Competitions</td>\n",
              "      <td>Art Competitions Mixed Architecture, Designs F...</td>\n",
              "      <td>NaN</td>\n",
              "    </tr>\n",
              "    <tr>\n",
              "      <th>4864</th>\n",
              "      <td>2777</td>\n",
              "      <td>Hermann Reinhard Alker</td>\n",
              "      <td>M</td>\n",
              "      <td>43.0</td>\n",
              "      <td>NaN</td>\n",
              "      <td>NaN</td>\n",
              "      <td>Germany</td>\n",
              "      <td>GER</td>\n",
              "      <td>1928 Summer</td>\n",
              "      <td>1928</td>\n",
              "      <td>Summer</td>\n",
              "      <td>Amsterdam</td>\n",
              "      <td>Art Competitions</td>\n",
              "      <td>Art Competitions Mixed Architecture, Architect...</td>\n",
              "      <td>NaN</td>\n",
              "    </tr>\n",
              "    <tr>\n",
              "      <th>...</th>\n",
              "      <td>...</td>\n",
              "      <td>...</td>\n",
              "      <td>...</td>\n",
              "      <td>...</td>\n",
              "      <td>...</td>\n",
              "      <td>...</td>\n",
              "      <td>...</td>\n",
              "      <td>...</td>\n",
              "      <td>...</td>\n",
              "      <td>...</td>\n",
              "      <td>...</td>\n",
              "      <td>...</td>\n",
              "      <td>...</td>\n",
              "      <td>...</td>\n",
              "      <td>...</td>\n",
              "    </tr>\n",
              "    <tr>\n",
              "      <th>269994</th>\n",
              "      <td>135072</td>\n",
              "      <td>Anna Katrina Zinkeisen (-Heseltine)</td>\n",
              "      <td>F</td>\n",
              "      <td>46.0</td>\n",
              "      <td>NaN</td>\n",
              "      <td>NaN</td>\n",
              "      <td>Great Britain</td>\n",
              "      <td>GBR</td>\n",
              "      <td>1948 Summer</td>\n",
              "      <td>1948</td>\n",
              "      <td>Summer</td>\n",
              "      <td>London</td>\n",
              "      <td>Art Competitions</td>\n",
              "      <td>Art Competitions Mixed Painting, Paintings</td>\n",
              "      <td>NaN</td>\n",
              "    </tr>\n",
              "    <tr>\n",
              "      <th>269995</th>\n",
              "      <td>135072</td>\n",
              "      <td>Anna Katrina Zinkeisen (-Heseltine)</td>\n",
              "      <td>F</td>\n",
              "      <td>46.0</td>\n",
              "      <td>NaN</td>\n",
              "      <td>NaN</td>\n",
              "      <td>Great Britain</td>\n",
              "      <td>GBR</td>\n",
              "      <td>1948 Summer</td>\n",
              "      <td>1948</td>\n",
              "      <td>Summer</td>\n",
              "      <td>London</td>\n",
              "      <td>Art Competitions</td>\n",
              "      <td>Art Competitions Mixed Painting, Paintings</td>\n",
              "      <td>NaN</td>\n",
              "    </tr>\n",
              "    <tr>\n",
              "      <th>269997</th>\n",
              "      <td>135072</td>\n",
              "      <td>Anna Katrina Zinkeisen (-Heseltine)</td>\n",
              "      <td>F</td>\n",
              "      <td>46.0</td>\n",
              "      <td>NaN</td>\n",
              "      <td>NaN</td>\n",
              "      <td>Great Britain</td>\n",
              "      <td>GBR</td>\n",
              "      <td>1948 Summer</td>\n",
              "      <td>1948</td>\n",
              "      <td>Summer</td>\n",
              "      <td>London</td>\n",
              "      <td>Art Competitions</td>\n",
              "      <td>Art Competitions Mixed Painting, Unknown Event</td>\n",
              "      <td>NaN</td>\n",
              "    </tr>\n",
              "    <tr>\n",
              "      <th>269999</th>\n",
              "      <td>135073</td>\n",
              "      <td>Doris Clare Zinkeisen (-Johnstone)</td>\n",
              "      <td>F</td>\n",
              "      <td>49.0</td>\n",
              "      <td>NaN</td>\n",
              "      <td>NaN</td>\n",
              "      <td>Great Britain</td>\n",
              "      <td>GBR</td>\n",
              "      <td>1948 Summer</td>\n",
              "      <td>1948</td>\n",
              "      <td>Summer</td>\n",
              "      <td>London</td>\n",
              "      <td>Art Competitions</td>\n",
              "      <td>Art Competitions Mixed Painting, Unknown Event</td>\n",
              "      <td>NaN</td>\n",
              "    </tr>\n",
              "    <tr>\n",
              "      <th>270200</th>\n",
              "      <td>135173</td>\n",
              "      <td>Henri Achille Zo</td>\n",
              "      <td>M</td>\n",
              "      <td>58.0</td>\n",
              "      <td>NaN</td>\n",
              "      <td>NaN</td>\n",
              "      <td>France</td>\n",
              "      <td>FRA</td>\n",
              "      <td>1932 Summer</td>\n",
              "      <td>1932</td>\n",
              "      <td>Summer</td>\n",
              "      <td>Los Angeles</td>\n",
              "      <td>Art Competitions</td>\n",
              "      <td>Art Competitions Mixed Painting, Unknown Event</td>\n",
              "      <td>NaN</td>\n",
              "    </tr>\n",
              "  </tbody>\n",
              "</table>\n",
              "<p>1385 rows × 15 columns</p>\n",
              "</div>"
            ],
            "text/plain": [
              "        id_atleta  ... medalha\n",
              "1252          704  ...     NaN\n",
              "4282         2449  ...     NaN\n",
              "4283         2449  ...     NaN\n",
              "4862         2777  ...     NaN\n",
              "4864         2777  ...     NaN\n",
              "...           ...  ...     ...\n",
              "269994     135072  ...     NaN\n",
              "269995     135072  ...     NaN\n",
              "269997     135072  ...     NaN\n",
              "269999     135073  ...     NaN\n",
              "270200     135173  ...     NaN\n",
              "\n",
              "[1385 rows x 15 columns]"
            ]
          },
          "metadata": {
            "tags": []
          },
          "execution_count": 49
        }
      ]
    },
    {
      "cell_type": "code",
      "metadata": {
        "colab": {
          "base_uri": "https://localhost:8080/"
        },
        "id": "NpJBVh7xSMT2",
        "outputId": "337c1f5d-df7e-44d5-d068-4ecb385bf0eb"
      },
      "source": [
        "df_atleta.shape"
      ],
      "execution_count": 50,
      "outputs": [
        {
          "output_type": "execute_result",
          "data": {
            "text/plain": [
              "(222552, 15)"
            ]
          },
          "metadata": {
            "tags": []
          },
          "execution_count": 50
        }
      ]
    },
    {
      "cell_type": "code",
      "metadata": {
        "id": "GLRtGTP7SMO8"
      },
      "source": [
        "df_atleta.drop_duplicates(inplace=True)"
      ],
      "execution_count": 54,
      "outputs": []
    },
    {
      "cell_type": "code",
      "metadata": {
        "colab": {
          "base_uri": "https://localhost:8080/",
          "height": 49
        },
        "id": "9c_rLykXSL79",
        "outputId": "5906d1f9-5247-4410-d080-0979adaae745"
      },
      "source": [
        "df_atleta[df_atleta.duplicated()] #retornou apenas o nome das colunas, significa que não há duplicatas"
      ],
      "execution_count": 55,
      "outputs": [
        {
          "output_type": "execute_result",
          "data": {
            "text/html": [
              "<div>\n",
              "<style scoped>\n",
              "    .dataframe tbody tr th:only-of-type {\n",
              "        vertical-align: middle;\n",
              "    }\n",
              "\n",
              "    .dataframe tbody tr th {\n",
              "        vertical-align: top;\n",
              "    }\n",
              "\n",
              "    .dataframe thead th {\n",
              "        text-align: right;\n",
              "    }\n",
              "</style>\n",
              "<table border=\"1\" class=\"dataframe\">\n",
              "  <thead>\n",
              "    <tr style=\"text-align: right;\">\n",
              "      <th></th>\n",
              "      <th>id_atleta</th>\n",
              "      <th>name_atleta</th>\n",
              "      <th>sexo_atleta</th>\n",
              "      <th>idade_atleta</th>\n",
              "      <th>altura_atleta</th>\n",
              "      <th>peso_atleta</th>\n",
              "      <th>equipe</th>\n",
              "      <th>noc</th>\n",
              "      <th>ano_temporada</th>\n",
              "      <th>ano</th>\n",
              "      <th>temporada</th>\n",
              "      <th>cidade_sede</th>\n",
              "      <th>modalidade_esportiva</th>\n",
              "      <th>evento</th>\n",
              "      <th>medalha</th>\n",
              "    </tr>\n",
              "  </thead>\n",
              "  <tbody>\n",
              "  </tbody>\n",
              "</table>\n",
              "</div>"
            ],
            "text/plain": [
              "Empty DataFrame\n",
              "Columns: [id_atleta, name_atleta, sexo_atleta, idade_atleta, altura_atleta, peso_atleta, equipe, noc, ano_temporada, ano, temporada, cidade_sede, modalidade_esportiva, evento, medalha]\n",
              "Index: []"
            ]
          },
          "metadata": {
            "tags": []
          },
          "execution_count": 55
        }
      ]
    },
    {
      "cell_type": "code",
      "metadata": {
        "colab": {
          "base_uri": "https://localhost:8080/"
        },
        "id": "ABiVfKKdVDdY",
        "outputId": "43d348d5-eed0-4767-c3d0-ca70daa039d3"
      },
      "source": [
        "df_atleta.shape"
      ],
      "execution_count": 56,
      "outputs": [
        {
          "output_type": "execute_result",
          "data": {
            "text/plain": [
              "(221167, 15)"
            ]
          },
          "metadata": {
            "tags": []
          },
          "execution_count": 56
        }
      ]
    },
    {
      "cell_type": "markdown",
      "metadata": {
        "id": "pRvfEYmSVkfH"
      },
      "source": [
        "### **Analisando as Features - realizando alterações para uso na etapa de machine learning**"
      ]
    },
    {
      "cell_type": "code",
      "metadata": {
        "colab": {
          "base_uri": "https://localhost:8080/",
          "height": 204
        },
        "id": "b9DaIMdjVDWQ",
        "outputId": "22badd52-f518-4e21-a664-2b3658f050c4"
      },
      "source": [
        "df_atleta.head()"
      ],
      "execution_count": 58,
      "outputs": [
        {
          "output_type": "execute_result",
          "data": {
            "text/html": [
              "<div>\n",
              "<style scoped>\n",
              "    .dataframe tbody tr th:only-of-type {\n",
              "        vertical-align: middle;\n",
              "    }\n",
              "\n",
              "    .dataframe tbody tr th {\n",
              "        vertical-align: top;\n",
              "    }\n",
              "\n",
              "    .dataframe thead th {\n",
              "        text-align: right;\n",
              "    }\n",
              "</style>\n",
              "<table border=\"1\" class=\"dataframe\">\n",
              "  <thead>\n",
              "    <tr style=\"text-align: right;\">\n",
              "      <th></th>\n",
              "      <th>id_atleta</th>\n",
              "      <th>name_atleta</th>\n",
              "      <th>sexo_atleta</th>\n",
              "      <th>idade_atleta</th>\n",
              "      <th>altura_atleta</th>\n",
              "      <th>peso_atleta</th>\n",
              "      <th>equipe</th>\n",
              "      <th>noc</th>\n",
              "      <th>ano_temporada</th>\n",
              "      <th>ano</th>\n",
              "      <th>temporada</th>\n",
              "      <th>cidade_sede</th>\n",
              "      <th>modalidade_esportiva</th>\n",
              "      <th>evento</th>\n",
              "      <th>medalha</th>\n",
              "    </tr>\n",
              "  </thead>\n",
              "  <tbody>\n",
              "    <tr>\n",
              "      <th>0</th>\n",
              "      <td>1</td>\n",
              "      <td>A Dijiang</td>\n",
              "      <td>M</td>\n",
              "      <td>24.0</td>\n",
              "      <td>180.0</td>\n",
              "      <td>80.0</td>\n",
              "      <td>China</td>\n",
              "      <td>CHN</td>\n",
              "      <td>1992 Summer</td>\n",
              "      <td>1992</td>\n",
              "      <td>Summer</td>\n",
              "      <td>Barcelona</td>\n",
              "      <td>Basketball</td>\n",
              "      <td>Basketball Men's Basketball</td>\n",
              "      <td>NaN</td>\n",
              "    </tr>\n",
              "    <tr>\n",
              "      <th>1</th>\n",
              "      <td>2</td>\n",
              "      <td>A Lamusi</td>\n",
              "      <td>M</td>\n",
              "      <td>23.0</td>\n",
              "      <td>170.0</td>\n",
              "      <td>60.0</td>\n",
              "      <td>China</td>\n",
              "      <td>CHN</td>\n",
              "      <td>2012 Summer</td>\n",
              "      <td>2012</td>\n",
              "      <td>Summer</td>\n",
              "      <td>London</td>\n",
              "      <td>Judo</td>\n",
              "      <td>Judo Men's Extra-Lightweight</td>\n",
              "      <td>NaN</td>\n",
              "    </tr>\n",
              "    <tr>\n",
              "      <th>2</th>\n",
              "      <td>3</td>\n",
              "      <td>Gunnar Nielsen Aaby</td>\n",
              "      <td>M</td>\n",
              "      <td>24.0</td>\n",
              "      <td>NaN</td>\n",
              "      <td>NaN</td>\n",
              "      <td>Denmark</td>\n",
              "      <td>DEN</td>\n",
              "      <td>1920 Summer</td>\n",
              "      <td>1920</td>\n",
              "      <td>Summer</td>\n",
              "      <td>Antwerpen</td>\n",
              "      <td>Football</td>\n",
              "      <td>Football Men's Football</td>\n",
              "      <td>NaN</td>\n",
              "    </tr>\n",
              "    <tr>\n",
              "      <th>3</th>\n",
              "      <td>4</td>\n",
              "      <td>Edgar Lindenau Aabye</td>\n",
              "      <td>M</td>\n",
              "      <td>34.0</td>\n",
              "      <td>NaN</td>\n",
              "      <td>NaN</td>\n",
              "      <td>Denmark/Sweden</td>\n",
              "      <td>DEN</td>\n",
              "      <td>1900 Summer</td>\n",
              "      <td>1900</td>\n",
              "      <td>Summer</td>\n",
              "      <td>Paris</td>\n",
              "      <td>Tug-Of-War</td>\n",
              "      <td>Tug-Of-War Men's Tug-Of-War</td>\n",
              "      <td>Gold</td>\n",
              "    </tr>\n",
              "    <tr>\n",
              "      <th>26</th>\n",
              "      <td>8</td>\n",
              "      <td>Cornelia \"Cor\" Aalten (-Strannood)</td>\n",
              "      <td>F</td>\n",
              "      <td>18.0</td>\n",
              "      <td>168.0</td>\n",
              "      <td>NaN</td>\n",
              "      <td>Netherlands</td>\n",
              "      <td>NED</td>\n",
              "      <td>1932 Summer</td>\n",
              "      <td>1932</td>\n",
              "      <td>Summer</td>\n",
              "      <td>Los Angeles</td>\n",
              "      <td>Athletics</td>\n",
              "      <td>Athletics Women's 100 metres</td>\n",
              "      <td>NaN</td>\n",
              "    </tr>\n",
              "  </tbody>\n",
              "</table>\n",
              "</div>"
            ],
            "text/plain": [
              "    id_atleta  ... medalha\n",
              "0           1  ...     NaN\n",
              "1           2  ...     NaN\n",
              "2           3  ...     NaN\n",
              "3           4  ...    Gold\n",
              "26          8  ...     NaN\n",
              "\n",
              "[5 rows x 15 columns]"
            ]
          },
          "metadata": {
            "tags": []
          },
          "execution_count": 58
        }
      ]
    },
    {
      "cell_type": "markdown",
      "metadata": {
        "id": "R8S_4PjYWzho"
      },
      "source": [
        "### **id_atleta - identificação única de cada atleta**\n"
      ]
    },
    {
      "cell_type": "code",
      "metadata": {
        "colab": {
          "base_uri": "https://localhost:8080/"
        },
        "id": "PVNZyIQzVDOv",
        "outputId": "411f7a60-dcb6-4557-98bb-bc92ceb09d02"
      },
      "source": [
        "df_atleta['name_atleta'].nunique()"
      ],
      "execution_count": 60,
      "outputs": [
        {
          "output_type": "execute_result",
          "data": {
            "text/plain": [
              "116122"
            ]
          },
          "metadata": {
            "tags": []
          },
          "execution_count": 60
        }
      ]
    },
    {
      "cell_type": "markdown",
      "metadata": {
        "id": "rp6FKneAX5s9"
      },
      "source": [
        "### **sexo_atleta**\n"
      ]
    },
    {
      "cell_type": "code",
      "metadata": {
        "colab": {
          "base_uri": "https://localhost:8080/"
        },
        "id": "OIBn6npVVDFt",
        "outputId": "8f97c152-b8e5-44eb-b853-715f05f9e69c"
      },
      "source": [
        "df_atleta['sexo_atleta'].nunique()"
      ],
      "execution_count": 61,
      "outputs": [
        {
          "output_type": "execute_result",
          "data": {
            "text/plain": [
              "2"
            ]
          },
          "metadata": {
            "tags": []
          },
          "execution_count": 61
        }
      ]
    },
    {
      "cell_type": "code",
      "metadata": {
        "colab": {
          "base_uri": "https://localhost:8080/"
        },
        "id": "JI8nT_eZVC6z",
        "outputId": "d5671ca0-51a3-4823-f67e-ccf68da0e5d5"
      },
      "source": [
        "df_atleta['sexo_atleta'].unique()"
      ],
      "execution_count": 62,
      "outputs": [
        {
          "output_type": "execute_result",
          "data": {
            "text/plain": [
              "array(['M', 'F'], dtype=object)"
            ]
          },
          "metadata": {
            "tags": []
          },
          "execution_count": 62
        }
      ]
    },
    {
      "cell_type": "code",
      "metadata": {
        "colab": {
          "base_uri": "https://localhost:8080/",
          "height": 606
        },
        "id": "-E7HxbcvYfN8",
        "outputId": "18ee9207-f341-4063-8cd6-de3e2071d2e7"
      },
      "source": [
        "# visualizando a quantidade de M e F usando Matplotlib e Seaborn\n",
        "plt.figure(figsize=(12,10))\n",
        "sns.countplot(x = 'sexo_atleta', data=df_atleta)\n",
        "plt.show()"
      ],
      "execution_count": 66,
      "outputs": [
        {
          "output_type": "display_data",
          "data": {
            "image/png": "[encoded data removed]",
            "text/plain": [
              "<Figure size 864x720 with 1 Axes>"
            ]
          },
          "metadata": {
            "tags": [],
            "needs_background": "light"
          }
        }
      ]
    },
    {
      "cell_type": "code",
      "metadata": {
        "colab": {
          "base_uri": "https://localhost:8080/"
        },
        "id": "LMqv0NdsZmsS",
        "outputId": "a0af883d-57fe-45fc-cb98-7c49f0921b95"
      },
      "source": [
        "# detalhando a quantidade por M e F\n",
        "df_atleta['sexo_atleta'].value_counts()"
      ],
      "execution_count": 68,
      "outputs": [
        {
          "output_type": "execute_result",
          "data": {
            "text/plain": [
              "M    161868\n",
              "F     59299\n",
              "Name: sexo_atleta, dtype: int64"
            ]
          },
          "metadata": {
            "tags": []
          },
          "execution_count": 68
        }
      ]
    },
    {
      "cell_type": "markdown",
      "metadata": {
        "id": "Ea__MSS7aDBo"
      },
      "source": [
        "### **idade_atleta**\n"
      ]
    },
    {
      "cell_type": "code",
      "metadata": {
        "colab": {
          "base_uri": "https://localhost:8080/"
        },
        "id": "x4wdPz4laMzV",
        "outputId": "0864ddd3-299f-4fbb-eeef-4f6f450ca990"
      },
      "source": [
        "df_atleta['idade_atleta'].nunique()"
      ],
      "execution_count": 70,
      "outputs": [
        {
          "output_type": "execute_result",
          "data": {
            "text/plain": [
              "74"
            ]
          },
          "metadata": {
            "tags": []
          },
          "execution_count": 70
        }
      ]
    },
    {
      "cell_type": "code",
      "metadata": {
        "colab": {
          "base_uri": "https://localhost:8080/"
        },
        "id": "_msSoMxpbO1f",
        "outputId": "9261878b-775a-4511-da09-f86259578811"
      },
      "source": [
        "df_atleta['idade_atleta'].unique()"
      ],
      "execution_count": 74,
      "outputs": [
        {
          "output_type": "execute_result",
          "data": {
            "text/plain": [
              "array([24., 23., 34., 18., 26., 31., 30., 22., 28., 32., 54., 27., 43.,\n",
              "       47., 21., 25., 20., 33., 41., 45., 49., 53., 57., nan, 19., 29.,\n",
              "       38., 35., 16., 37., 42., 46., 40., 15., 36., 17., 14., 39., 48.,\n",
              "       52., 55., 50., 44., 71., 63., 51., 58., 60., 75., 65., 13., 56.,\n",
              "       64., 68., 84., 12., 72., 59., 61., 70., 74., 62., 67., 69., 73.,\n",
              "       66., 76., 88., 11., 96., 80., 10., 81., 77., 97.])"
            ]
          },
          "metadata": {
            "tags": []
          },
          "execution_count": 74
        }
      ]
    },
    {
      "cell_type": "code",
      "metadata": {
        "colab": {
          "base_uri": "https://localhost:8080/",
          "height": 297
        },
        "id": "HT3mGMK7bpAE",
        "outputId": "e0a1b38a-9af5-4359-eacf-6d9bcb1948db"
      },
      "source": [
        "df_atleta.describe()"
      ],
      "execution_count": 72,
      "outputs": [
        {
          "output_type": "execute_result",
          "data": {
            "text/html": [
              "<div>\n",
              "<style scoped>\n",
              "    .dataframe tbody tr th:only-of-type {\n",
              "        vertical-align: middle;\n",
              "    }\n",
              "\n",
              "    .dataframe tbody tr th {\n",
              "        vertical-align: top;\n",
              "    }\n",
              "\n",
              "    .dataframe thead th {\n",
              "        text-align: right;\n",
              "    }\n",
              "</style>\n",
              "<table border=\"1\" class=\"dataframe\">\n",
              "  <thead>\n",
              "    <tr style=\"text-align: right;\">\n",
              "      <th></th>\n",
              "      <th>id_atleta</th>\n",
              "      <th>idade_atleta</th>\n",
              "      <th>altura_atleta</th>\n",
              "      <th>peso_atleta</th>\n",
              "      <th>ano</th>\n",
              "    </tr>\n",
              "  </thead>\n",
              "  <tbody>\n",
              "    <tr>\n",
              "      <th>count</th>\n",
              "      <td>221167.000000</td>\n",
              "      <td>212137.000000</td>\n",
              "      <td>170667.000000</td>\n",
              "      <td>168661.000000</td>\n",
              "      <td>221167.000000</td>\n",
              "    </tr>\n",
              "    <tr>\n",
              "      <th>mean</th>\n",
              "      <td>68016.867403</td>\n",
              "      <td>25.549367</td>\n",
              "      <td>175.515560</td>\n",
              "      <td>70.688298</td>\n",
              "      <td>1976.602486</td>\n",
              "    </tr>\n",
              "    <tr>\n",
              "      <th>std</th>\n",
              "      <td>39144.711847</td>\n",
              "      <td>6.434035</td>\n",
              "      <td>10.914843</td>\n",
              "      <td>14.805242</td>\n",
              "      <td>30.820855</td>\n",
              "    </tr>\n",
              "    <tr>\n",
              "      <th>min</th>\n",
              "      <td>1.000000</td>\n",
              "      <td>10.000000</td>\n",
              "      <td>127.000000</td>\n",
              "      <td>25.000000</td>\n",
              "      <td>1896.000000</td>\n",
              "    </tr>\n",
              "    <tr>\n",
              "      <th>25%</th>\n",
              "      <td>34011.500000</td>\n",
              "      <td>21.000000</td>\n",
              "      <td>168.000000</td>\n",
              "      <td>60.000000</td>\n",
              "      <td>1960.000000</td>\n",
              "    </tr>\n",
              "    <tr>\n",
              "      <th>50%</th>\n",
              "      <td>68342.000000</td>\n",
              "      <td>24.000000</td>\n",
              "      <td>175.000000</td>\n",
              "      <td>70.000000</td>\n",
              "      <td>1984.000000</td>\n",
              "    </tr>\n",
              "    <tr>\n",
              "      <th>75%</th>\n",
              "      <td>101904.500000</td>\n",
              "      <td>28.000000</td>\n",
              "      <td>183.000000</td>\n",
              "      <td>79.000000</td>\n",
              "      <td>2000.000000</td>\n",
              "    </tr>\n",
              "    <tr>\n",
              "      <th>max</th>\n",
              "      <td>135568.000000</td>\n",
              "      <td>97.000000</td>\n",
              "      <td>226.000000</td>\n",
              "      <td>214.000000</td>\n",
              "      <td>2016.000000</td>\n",
              "    </tr>\n",
              "  </tbody>\n",
              "</table>\n",
              "</div>"
            ],
            "text/plain": [
              "           id_atleta   idade_atleta  ...    peso_atleta            ano\n",
              "count  221167.000000  212137.000000  ...  168661.000000  221167.000000\n",
              "mean    68016.867403      25.549367  ...      70.688298    1976.602486\n",
              "std     39144.711847       6.434035  ...      14.805242      30.820855\n",
              "min         1.000000      10.000000  ...      25.000000    1896.000000\n",
              "25%     34011.500000      21.000000  ...      60.000000    1960.000000\n",
              "50%     68342.000000      24.000000  ...      70.000000    1984.000000\n",
              "75%    101904.500000      28.000000  ...      79.000000    2000.000000\n",
              "max    135568.000000      97.000000  ...     214.000000    2016.000000\n",
              "\n",
              "[8 rows x 5 columns]"
            ]
          },
          "metadata": {
            "tags": []
          },
          "execution_count": 72
        }
      ]
    },
    {
      "cell_type": "code",
      "metadata": {
        "colab": {
          "base_uri": "https://localhost:8080/"
        },
        "id": "7qdWjtr4bo0m",
        "outputId": "a812ddc9-fc02-449b-ef4e-e06525a9823d"
      },
      "source": [
        "df_atleta['idade_atleta'].min()"
      ],
      "execution_count": 76,
      "outputs": [
        {
          "output_type": "execute_result",
          "data": {
            "text/plain": [
              "10.0"
            ]
          },
          "metadata": {
            "tags": []
          },
          "execution_count": 76
        }
      ]
    },
    {
      "cell_type": "code",
      "metadata": {
        "colab": {
          "base_uri": "https://localhost:8080/"
        },
        "id": "wMdoAt5TcQMT",
        "outputId": "44f512e4-e872-4628-f522-92e05a119e5c"
      },
      "source": [
        "df_atleta['idade_atleta'].max()"
      ],
      "execution_count": 77,
      "outputs": [
        {
          "output_type": "execute_result",
          "data": {
            "text/plain": [
              "97.0"
            ]
          },
          "metadata": {
            "tags": []
          },
          "execution_count": 77
        }
      ]
    },
    {
      "cell_type": "code",
      "metadata": {
        "colab": {
          "base_uri": "https://localhost:8080/",
          "height": 80
        },
        "id": "qJMgohk5el6z",
        "outputId": "2a95e032-fed5-47dc-e88f-37db1b148a67"
      },
      "source": [
        "df_atleta[df_atleta['idade_atleta'] == 10.0]"
      ],
      "execution_count": 88,
      "outputs": [
        {
          "output_type": "execute_result",
          "data": {
            "text/html": [
              "<div>\n",
              "<style scoped>\n",
              "    .dataframe tbody tr th:only-of-type {\n",
              "        vertical-align: middle;\n",
              "    }\n",
              "\n",
              "    .dataframe tbody tr th {\n",
              "        vertical-align: top;\n",
              "    }\n",
              "\n",
              "    .dataframe thead th {\n",
              "        text-align: right;\n",
              "    }\n",
              "</style>\n",
              "<table border=\"1\" class=\"dataframe\">\n",
              "  <thead>\n",
              "    <tr style=\"text-align: right;\">\n",
              "      <th></th>\n",
              "      <th>id_atleta</th>\n",
              "      <th>name_atleta</th>\n",
              "      <th>sexo_atleta</th>\n",
              "      <th>idade_atleta</th>\n",
              "      <th>altura_atleta</th>\n",
              "      <th>peso_atleta</th>\n",
              "      <th>equipe</th>\n",
              "      <th>noc</th>\n",
              "      <th>ano_temporada</th>\n",
              "      <th>ano</th>\n",
              "      <th>temporada</th>\n",
              "      <th>cidade_sede</th>\n",
              "      <th>modalidade_esportiva</th>\n",
              "      <th>evento</th>\n",
              "      <th>medalha</th>\n",
              "    </tr>\n",
              "  </thead>\n",
              "  <tbody>\n",
              "    <tr>\n",
              "      <th>142882</th>\n",
              "      <td>71691</td>\n",
              "      <td>Dimitrios Loundras</td>\n",
              "      <td>M</td>\n",
              "      <td>10.0</td>\n",
              "      <td>NaN</td>\n",
              "      <td>NaN</td>\n",
              "      <td>Ethnikos Gymnastikos Syllogos</td>\n",
              "      <td>GRE</td>\n",
              "      <td>1896 Summer</td>\n",
              "      <td>1896</td>\n",
              "      <td>Summer</td>\n",
              "      <td>Athina</td>\n",
              "      <td>Gymnastics</td>\n",
              "      <td>Gymnastics Men's Parallel Bars, Teams</td>\n",
              "      <td>Bronze</td>\n",
              "    </tr>\n",
              "  </tbody>\n",
              "</table>\n",
              "</div>"
            ],
            "text/plain": [
              "        id_atleta  ... medalha\n",
              "142882      71691  ...  Bronze\n",
              "\n",
              "[1 rows x 15 columns]"
            ]
          },
          "metadata": {
            "tags": []
          },
          "execution_count": 88
        }
      ]
    },
    {
      "cell_type": "code",
      "metadata": {
        "colab": {
          "base_uri": "https://localhost:8080/",
          "height": 80
        },
        "id": "1zDyK_WWcEQn",
        "outputId": "f58dc2d9-d741-48d5-d74d-a53e2a83cefe"
      },
      "source": [
        "df_atleta[df_atleta['idade_atleta'] == 97.0]"
      ],
      "execution_count": 78,
      "outputs": [
        {
          "output_type": "execute_result",
          "data": {
            "text/html": [
              "<div>\n",
              "<style scoped>\n",
              "    .dataframe tbody tr th:only-of-type {\n",
              "        vertical-align: middle;\n",
              "    }\n",
              "\n",
              "    .dataframe tbody tr th {\n",
              "        vertical-align: top;\n",
              "    }\n",
              "\n",
              "    .dataframe thead th {\n",
              "        text-align: right;\n",
              "    }\n",
              "</style>\n",
              "<table border=\"1\" class=\"dataframe\">\n",
              "  <thead>\n",
              "    <tr style=\"text-align: right;\">\n",
              "      <th></th>\n",
              "      <th>id_atleta</th>\n",
              "      <th>name_atleta</th>\n",
              "      <th>sexo_atleta</th>\n",
              "      <th>idade_atleta</th>\n",
              "      <th>altura_atleta</th>\n",
              "      <th>peso_atleta</th>\n",
              "      <th>equipe</th>\n",
              "      <th>noc</th>\n",
              "      <th>ano_temporada</th>\n",
              "      <th>ano</th>\n",
              "      <th>temporada</th>\n",
              "      <th>cidade_sede</th>\n",
              "      <th>modalidade_esportiva</th>\n",
              "      <th>evento</th>\n",
              "      <th>medalha</th>\n",
              "    </tr>\n",
              "  </thead>\n",
              "  <tbody>\n",
              "    <tr>\n",
              "      <th>257054</th>\n",
              "      <td>128719</td>\n",
              "      <td>John Quincy Adams Ward</td>\n",
              "      <td>M</td>\n",
              "      <td>97.0</td>\n",
              "      <td>NaN</td>\n",
              "      <td>NaN</td>\n",
              "      <td>United States</td>\n",
              "      <td>USA</td>\n",
              "      <td>1928 Summer</td>\n",
              "      <td>1928</td>\n",
              "      <td>Summer</td>\n",
              "      <td>Amsterdam</td>\n",
              "      <td>Art Competitions</td>\n",
              "      <td>Art Competitions Mixed Sculpturing, Statues</td>\n",
              "      <td>NaN</td>\n",
              "    </tr>\n",
              "  </tbody>\n",
              "</table>\n",
              "</div>"
            ],
            "text/plain": [
              "        id_atleta  ... medalha\n",
              "257054     128719  ...     NaN\n",
              "\n",
              "[1 rows x 15 columns]"
            ]
          },
          "metadata": {
            "tags": []
          },
          "execution_count": 78
        }
      ]
    },
    {
      "cell_type": "code",
      "metadata": {
        "colab": {
          "base_uri": "https://localhost:8080/"
        },
        "id": "yDkCSlXAcVjF",
        "outputId": "c4cc3e3f-a9fa-45ab-b552-e191e65f1c8b"
      },
      "source": [
        "df_atleta['idade_atleta'].sort_values(ascending=False)"
      ],
      "execution_count": 79,
      "outputs": [
        {
          "output_type": "execute_result",
          "data": {
            "text/plain": [
              "257054    97.0\n",
              "98118     96.0\n",
              "60861     88.0\n",
              "9371      84.0\n",
              "236912    81.0\n",
              "          ... \n",
              "270679     NaN\n",
              "270774     NaN\n",
              "270793     NaN\n",
              "270804     NaN\n",
              "270805     NaN\n",
              "Name: idade_atleta, Length: 221167, dtype: float64"
            ]
          },
          "metadata": {
            "tags": []
          },
          "execution_count": 79
        }
      ]
    },
    {
      "cell_type": "code",
      "metadata": {
        "colab": {
          "base_uri": "https://localhost:8080/",
          "height": 111
        },
        "id": "3-nreh02cVVZ",
        "outputId": "821178b8-6347-4422-ec0d-928fd1bcd063"
      },
      "source": [
        "df_atleta[df_atleta['idade_atleta'] == 81.0]"
      ],
      "execution_count": 84,
      "outputs": [
        {
          "output_type": "execute_result",
          "data": {
            "text/html": [
              "<div>\n",
              "<style scoped>\n",
              "    .dataframe tbody tr th:only-of-type {\n",
              "        vertical-align: middle;\n",
              "    }\n",
              "\n",
              "    .dataframe tbody tr th {\n",
              "        vertical-align: top;\n",
              "    }\n",
              "\n",
              "    .dataframe thead th {\n",
              "        text-align: right;\n",
              "    }\n",
              "</style>\n",
              "<table border=\"1\" class=\"dataframe\">\n",
              "  <thead>\n",
              "    <tr style=\"text-align: right;\">\n",
              "      <th></th>\n",
              "      <th>id_atleta</th>\n",
              "      <th>name_atleta</th>\n",
              "      <th>sexo_atleta</th>\n",
              "      <th>idade_atleta</th>\n",
              "      <th>altura_atleta</th>\n",
              "      <th>peso_atleta</th>\n",
              "      <th>equipe</th>\n",
              "      <th>noc</th>\n",
              "      <th>ano_temporada</th>\n",
              "      <th>ano</th>\n",
              "      <th>temporada</th>\n",
              "      <th>cidade_sede</th>\n",
              "      <th>modalidade_esportiva</th>\n",
              "      <th>evento</th>\n",
              "      <th>medalha</th>\n",
              "    </tr>\n",
              "  </thead>\n",
              "  <tbody>\n",
              "    <tr>\n",
              "      <th>154855</th>\n",
              "      <td>77710</td>\n",
              "      <td>Robert Tait McKenzie</td>\n",
              "      <td>M</td>\n",
              "      <td>81.0</td>\n",
              "      <td>NaN</td>\n",
              "      <td>NaN</td>\n",
              "      <td>Canada</td>\n",
              "      <td>CAN</td>\n",
              "      <td>1948 Summer</td>\n",
              "      <td>1948</td>\n",
              "      <td>Summer</td>\n",
              "      <td>London</td>\n",
              "      <td>Art Competitions</td>\n",
              "      <td>Art Competitions Mixed Sculpturing, Unknown Event</td>\n",
              "      <td>NaN</td>\n",
              "    </tr>\n",
              "    <tr>\n",
              "      <th>236912</th>\n",
              "      <td>118789</td>\n",
              "      <td>Louis Tauzin</td>\n",
              "      <td>M</td>\n",
              "      <td>81.0</td>\n",
              "      <td>NaN</td>\n",
              "      <td>NaN</td>\n",
              "      <td>France</td>\n",
              "      <td>FRA</td>\n",
              "      <td>1924 Summer</td>\n",
              "      <td>1924</td>\n",
              "      <td>Summer</td>\n",
              "      <td>Paris</td>\n",
              "      <td>Art Competitions</td>\n",
              "      <td>Art Competitions Mixed Sculpturing</td>\n",
              "      <td>NaN</td>\n",
              "    </tr>\n",
              "  </tbody>\n",
              "</table>\n",
              "</div>"
            ],
            "text/plain": [
              "        id_atleta  ... medalha\n",
              "154855      77710  ...     NaN\n",
              "236912     118789  ...     NaN\n",
              "\n",
              "[2 rows x 15 columns]"
            ]
          },
          "metadata": {
            "tags": []
          },
          "execution_count": 84
        }
      ]
    },
    {
      "cell_type": "code",
      "metadata": {
        "colab": {
          "base_uri": "https://localhost:8080/",
          "height": 592
        },
        "id": "Ys0DxgK5eGlK",
        "outputId": "1faaf1cb-82b1-4ab1-aa52-05e1ca5f89b9"
      },
      "source": [
        "plt.figure(figsize=(8,10))\n",
        "df_atleta.boxplot('idade_atleta')\n",
        "plt.show()"
      ],
      "execution_count": 87,
      "outputs": [
        {
          "output_type": "display_data",
          "data": {
            "image/png": "[encoded data removed]",
            "text/plain": [
              "<Figure size 576x720 with 1 Axes>"
            ]
          },
          "metadata": {
            "tags": [],
            "needs_background": "light"
          }
        }
      ]
    },
    {
      "cell_type": "code",
      "metadata": {
        "colab": {
          "base_uri": "https://localhost:8080/"
        },
        "id": "fh1gyzrIkLHv",
        "outputId": "543b185a-1ede-4d7f-e09e-c9b2f0777feb"
      },
      "source": [
        "df_atleta['idade_atleta'].describe()"
      ],
      "execution_count": 92,
      "outputs": [
        {
          "output_type": "execute_result",
          "data": {
            "text/plain": [
              "count    212137.000000\n",
              "mean         25.549367\n",
              "std           6.434035\n",
              "min          10.000000\n",
              "25%          21.000000\n",
              "50%          24.000000\n",
              "75%          28.000000\n",
              "max          97.000000\n",
              "Name: idade_atleta, dtype: float64"
            ]
          },
          "metadata": {
            "tags": []
          },
          "execution_count": 92
        }
      ]
    },
    {
      "cell_type": "code",
      "metadata": {
        "colab": {
          "base_uri": "https://localhost:8080/",
          "height": 265
        },
        "id": "DRLMldMsls71",
        "outputId": "1987adaf-fd02-4d48-e922-a59b73982963"
      },
      "source": [
        "df_atleta['idade_atleta'].hist();"
      ],
      "execution_count": 93,
      "outputs": [
        {
          "output_type": "display_data",
          "data": {
            "image/png": "[encoded data removed]",
            "text/plain": [
              "<Figure size 432x288 with 1 Axes>"
            ]
          },
          "metadata": {
            "tags": [],
            "needs_background": "light"
          }
        }
      ]
    },
    {
      "cell_type": "code",
      "metadata": {
        "colab": {
          "base_uri": "https://localhost:8080/",
          "height": 811
        },
        "id": "cCYCpPtUlzk-",
        "outputId": "62e2bdf3-09f5-411d-87ea-c98ed9b214e2"
      },
      "source": [
        "plt.figure(figsize=(50,20))\n",
        "plt.tight_layout()\n",
        "sns.countplot(df_atleta['idade_atleta'])\n",
        "plt.title('Distribuição da Idade')"
      ],
      "execution_count": 99,
      "outputs": [
        {
          "output_type": "stream",
          "text": [
            "/usr/local/lib/python3.7/dist-packages/seaborn/_decorators.py:43: FutureWarning: Pass the following variable as a keyword arg: x. From version 0.12, the only valid positional argument will be `data`, and passing other arguments without an explicit keyword will result in an error or misinterpretation.\n",
            "  FutureWarning\n"
          ],
          "name": "stderr"
        },
        {
          "output_type": "execute_result",
          "data": {
            "text/plain": [
              "Text(0.5, 1.0, 'Distribuição da Idade')"
            ]
          },
          "metadata": {
            "tags": []
          },
          "execution_count": 99
        },
        {
          "output_type": "display_data",
          "data": {
            "image/png": "[encoded data removed]",
            "text/plain": [
              "<Figure size 3600x1440 with 1 Axes>"
            ]
          },
          "metadata": {
            "tags": [],
            "needs_background": "light"
          }
        }
      ]
    },
    {
      "cell_type": "markdown",
      "metadata": {
        "id": "V0dOYrzdaD0H"
      },
      "source": [
        "### **altura_atleta**\n"
      ]
    },
    {
      "cell_type": "code",
      "metadata": {
        "colab": {
          "base_uri": "https://localhost:8080/"
        },
        "id": "oMZ8PFNgZmo6",
        "outputId": "dab6b1a7-575e-40ce-b161-13f2f0682c75"
      },
      "source": [
        "df_atleta['altura_atleta'].nunique()"
      ],
      "execution_count": 100,
      "outputs": [
        {
          "output_type": "execute_result",
          "data": {
            "text/plain": [
              "95"
            ]
          },
          "metadata": {
            "tags": []
          },
          "execution_count": 100
        }
      ]
    },
    {
      "cell_type": "code",
      "metadata": {
        "colab": {
          "base_uri": "https://localhost:8080/"
        },
        "id": "Al_UxDDInFx9",
        "outputId": "e08f75c1-b88b-49ec-f84d-27a352e9955f"
      },
      "source": [
        "df_atleta['altura_atleta'].min()"
      ],
      "execution_count": 103,
      "outputs": [
        {
          "output_type": "execute_result",
          "data": {
            "text/plain": [
              "127.0"
            ]
          },
          "metadata": {
            "tags": []
          },
          "execution_count": 103
        }
      ]
    },
    {
      "cell_type": "code",
      "metadata": {
        "colab": {
          "base_uri": "https://localhost:8080/"
        },
        "id": "218mFWp_nMwa",
        "outputId": "33f2e46e-2421-4e01-dfee-c06a849af45b"
      },
      "source": [
        "df_atleta['altura_atleta'].max()"
      ],
      "execution_count": 104,
      "outputs": [
        {
          "output_type": "execute_result",
          "data": {
            "text/plain": [
              "226.0"
            ]
          },
          "metadata": {
            "tags": []
          },
          "execution_count": 104
        }
      ]
    },
    {
      "cell_type": "code",
      "metadata": {
        "colab": {
          "base_uri": "https://localhost:8080/"
        },
        "id": "jZCUiOt6nFle",
        "outputId": "addc5c80-8eb1-460c-b3c6-bc056b8ada05"
      },
      "source": [
        "df_atleta['altura_atleta'].describe()"
      ],
      "execution_count": 105,
      "outputs": [
        {
          "output_type": "execute_result",
          "data": {
            "text/plain": [
              "count    170667.000000\n",
              "mean        175.515560\n",
              "std          10.914843\n",
              "min         127.000000\n",
              "25%         168.000000\n",
              "50%         175.000000\n",
              "75%         183.000000\n",
              "max         226.000000\n",
              "Name: altura_atleta, dtype: float64"
            ]
          },
          "metadata": {
            "tags": []
          },
          "execution_count": 105
        }
      ]
    },
    {
      "cell_type": "code",
      "metadata": {
        "colab": {
          "base_uri": "https://localhost:8080/",
          "height": 142
        },
        "id": "mJ51OEjmnYU7",
        "outputId": "36f635b8-b97f-4609-dcee-119735302387"
      },
      "source": [
        "df_atleta[df_atleta['altura_atleta'] == 226.0]"
      ],
      "execution_count": 107,
      "outputs": [
        {
          "output_type": "execute_result",
          "data": {
            "text/html": [
              "<div>\n",
              "<style scoped>\n",
              "    .dataframe tbody tr th:only-of-type {\n",
              "        vertical-align: middle;\n",
              "    }\n",
              "\n",
              "    .dataframe tbody tr th {\n",
              "        vertical-align: top;\n",
              "    }\n",
              "\n",
              "    .dataframe thead th {\n",
              "        text-align: right;\n",
              "    }\n",
              "</style>\n",
              "<table border=\"1\" class=\"dataframe\">\n",
              "  <thead>\n",
              "    <tr style=\"text-align: right;\">\n",
              "      <th></th>\n",
              "      <th>id_atleta</th>\n",
              "      <th>name_atleta</th>\n",
              "      <th>sexo_atleta</th>\n",
              "      <th>idade_atleta</th>\n",
              "      <th>altura_atleta</th>\n",
              "      <th>peso_atleta</th>\n",
              "      <th>equipe</th>\n",
              "      <th>noc</th>\n",
              "      <th>ano_temporada</th>\n",
              "      <th>ano</th>\n",
              "      <th>temporada</th>\n",
              "      <th>cidade_sede</th>\n",
              "      <th>modalidade_esportiva</th>\n",
              "      <th>evento</th>\n",
              "      <th>medalha</th>\n",
              "    </tr>\n",
              "  </thead>\n",
              "  <tbody>\n",
              "    <tr>\n",
              "      <th>265040</th>\n",
              "      <td>132627</td>\n",
              "      <td>Yao Ming</td>\n",
              "      <td>M</td>\n",
              "      <td>20.0</td>\n",
              "      <td>226.0</td>\n",
              "      <td>141.0</td>\n",
              "      <td>China</td>\n",
              "      <td>CHN</td>\n",
              "      <td>2000 Summer</td>\n",
              "      <td>2000</td>\n",
              "      <td>Summer</td>\n",
              "      <td>Sydney</td>\n",
              "      <td>Basketball</td>\n",
              "      <td>Basketball Men's Basketball</td>\n",
              "      <td>NaN</td>\n",
              "    </tr>\n",
              "    <tr>\n",
              "      <th>265041</th>\n",
              "      <td>132627</td>\n",
              "      <td>Yao Ming</td>\n",
              "      <td>M</td>\n",
              "      <td>23.0</td>\n",
              "      <td>226.0</td>\n",
              "      <td>141.0</td>\n",
              "      <td>China</td>\n",
              "      <td>CHN</td>\n",
              "      <td>2004 Summer</td>\n",
              "      <td>2004</td>\n",
              "      <td>Summer</td>\n",
              "      <td>Athina</td>\n",
              "      <td>Basketball</td>\n",
              "      <td>Basketball Men's Basketball</td>\n",
              "      <td>NaN</td>\n",
              "    </tr>\n",
              "    <tr>\n",
              "      <th>265042</th>\n",
              "      <td>132627</td>\n",
              "      <td>Yao Ming</td>\n",
              "      <td>M</td>\n",
              "      <td>27.0</td>\n",
              "      <td>226.0</td>\n",
              "      <td>141.0</td>\n",
              "      <td>China</td>\n",
              "      <td>CHN</td>\n",
              "      <td>2008 Summer</td>\n",
              "      <td>2008</td>\n",
              "      <td>Summer</td>\n",
              "      <td>Beijing</td>\n",
              "      <td>Basketball</td>\n",
              "      <td>Basketball Men's Basketball</td>\n",
              "      <td>NaN</td>\n",
              "    </tr>\n",
              "  </tbody>\n",
              "</table>\n",
              "</div>"
            ],
            "text/plain": [
              "        id_atleta name_atleta  ...                       evento  medalha\n",
              "265040     132627    Yao Ming  ...  Basketball Men's Basketball      NaN\n",
              "265041     132627    Yao Ming  ...  Basketball Men's Basketball      NaN\n",
              "265042     132627    Yao Ming  ...  Basketball Men's Basketball      NaN\n",
              "\n",
              "[3 rows x 15 columns]"
            ]
          },
          "metadata": {
            "tags": []
          },
          "execution_count": 107
        }
      ]
    },
    {
      "cell_type": "code",
      "metadata": {
        "id": "79yaKeuonYFt"
      },
      "source": [
        "df_atleta_acima200 = df_atleta[df_atleta['altura_atleta'] >= 200.0]"
      ],
      "execution_count": 110,
      "outputs": []
    },
    {
      "cell_type": "code",
      "metadata": {
        "colab": {
          "base_uri": "https://localhost:8080/"
        },
        "id": "BN4wmWaqnX6I",
        "outputId": "c238d8ac-8ef2-40c5-e4e0-73ae30ac2f08"
      },
      "source": [
        "df_atleta_acima200['modalidade_esportiva'].unique()"
      ],
      "execution_count": 111,
      "outputs": [
        {
          "output_type": "execute_result",
          "data": {
            "text/plain": [
              "array(['Volleyball', 'Basketball', 'Rowing', 'Judo', 'Swimming',\n",
              "       'Taekwondo', 'Athletics', 'Handball', 'Beach Volleyball', 'Tennis',\n",
              "       'Wrestling', 'Water Polo', 'Sailing', 'Football', 'Canoeing',\n",
              "       'Cycling', 'Boxing', 'Shooting', 'Weightlifting', 'Fencing',\n",
              "       'Badminton', 'Hockey', 'Baseball'], dtype=object)"
            ]
          },
          "metadata": {
            "tags": []
          },
          "execution_count": 111
        }
      ]
    },
    {
      "cell_type": "code",
      "metadata": {
        "id": "AJLg7HDQtoYJ"
      },
      "source": [
        ""
      ],
      "execution_count": null,
      "outputs": []
    },
    {
      "cell_type": "markdown",
      "metadata": {
        "id": "GqgHzflraEZz"
      },
      "source": [
        "### **peso_atleta**\n"
      ]
    },
    {
      "cell_type": "code",
      "metadata": {
        "id": "vnIezAMeZmlV"
      },
      "source": [
        ""
      ],
      "execution_count": null,
      "outputs": []
    },
    {
      "cell_type": "code",
      "metadata": {
        "id": "mIUb9uN7ZmbY"
      },
      "source": [
        ""
      ],
      "execution_count": null,
      "outputs": []
    },
    {
      "cell_type": "markdown",
      "metadata": {
        "id": "aTTUOXpfaTZB"
      },
      "source": [
        "### **equipe_atleta**\n"
      ]
    },
    {
      "cell_type": "code",
      "metadata": {
        "id": "p-DLGpKwVCxh"
      },
      "source": [
        ""
      ],
      "execution_count": 69,
      "outputs": []
    },
    {
      "cell_type": "code",
      "metadata": {
        "id": "ALeIPQX6aU4v"
      },
      "source": [
        ""
      ],
      "execution_count": null,
      "outputs": []
    },
    {
      "cell_type": "markdown",
      "metadata": {
        "id": "2pmGdGh1aVOD"
      },
      "source": [
        "### **NOC**\n"
      ]
    },
    {
      "cell_type": "code",
      "metadata": {
        "id": "hjGA2vuZaU2j"
      },
      "source": [
        ""
      ],
      "execution_count": 69,
      "outputs": []
    },
    {
      "cell_type": "code",
      "metadata": {
        "id": "rlIQVLRKaUyo"
      },
      "source": [
        ""
      ],
      "execution_count": null,
      "outputs": []
    },
    {
      "cell_type": "markdown",
      "metadata": {
        "id": "5zXeeiGfaVzX"
      },
      "source": [
        "### **ano_temporada**\n"
      ]
    },
    {
      "cell_type": "code",
      "metadata": {
        "colab": {
          "base_uri": "https://localhost:8080/"
        },
        "id": "0IOEhvaIaUva",
        "outputId": "859050ef-7745-41ef-9ff2-fc420ccdb2a1"
      },
      "source": [
        "df_atleta['ano'].sort_values(ascending=False)"
      ],
      "execution_count": 89,
      "outputs": [
        {
          "output_type": "execute_result",
          "data": {
            "text/plain": [
              "271110    2016\n",
              "73881     2016\n",
              "73829     2016\n",
              "73777     2016\n",
              "231263    2016\n",
              "          ... \n",
              "214330    1896\n",
              "234444    1896\n",
              "198470    1896\n",
              "198471    1896\n",
              "48644     1896\n",
              "Name: ano, Length: 221167, dtype: int64"
            ]
          },
          "metadata": {
            "tags": []
          },
          "execution_count": 89
        }
      ]
    },
    {
      "cell_type": "code",
      "metadata": {
        "id": "xHuTOu7kaUn1"
      },
      "source": [
        ""
      ],
      "execution_count": null,
      "outputs": []
    }
  ]
}